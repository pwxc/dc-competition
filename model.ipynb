{
 "cells": [
  {
   "cell_type": "code",
   "execution_count": 1,
   "metadata": {},
   "outputs": [
    {
     "name": "stderr",
     "output_type": "stream",
     "text": [
      "e:\\python3\\lib\\site-packages\\sklearn\\cross_validation.py:44: DeprecationWarning: This module was deprecated in version 0.18 in favor of the model_selection module into which all the refactored classes and functions are moved. Also note that the interface of the new CV iterators are different from that of this module. This module will be removed in 0.20.\n",
      "  \"This module will be removed in 0.20.\", DeprecationWarning)\n"
     ]
    }
   ],
   "source": [
    "import xgboost as xgb\n",
    "import numpy as np\n",
    "import pandas as pd\n",
    "\n",
    "int32 = np.int32\n",
    "int8 = np.int8\n",
    "int16 = np.int16\n",
    "\n",
    "my_dtype = {'user_id': int32, 'wood_add_value': int32, 'wood_reduce_value':int32, 'stone_add_value': int32, 'stone_reduce_value':int32, \n",
    "            'ivory_add_value':int32, 'ivory_reduce_value':int32, 'meat_add_value':int32, 'meat_reduce_value':int32, 'magic_add_value':int32, \n",
    "            'magic_reduce_value': int32, 'infantry_add_value':int32, 'infantry_reduce_value':int32, 'cavalry_add_value':int32, \n",
    "            'cavalry_reduce_value':int32, 'shaman_add_value':int32, 'shaman_reduce_value':int32, 'wound_infantry_add_value':int32, \n",
    "            'wound_infantry_reduce_value':int32, 'wound_cavalry_add_value':int32, 'wound_cavalry_reduce_value':int32, \n",
    "            'wound_shaman_add_value':int32, 'wound_shaman_reduce_value':int32, 'general_acceleration_add_value':int32, \n",
    "            'general_acceleration_reduce_value':int32, 'building_acceleration_add_value':int32, 'reaserch_acceleration_add_value':int32, \n",
    "            'reaserch_acceleration_reduce_value':int32, 'training_acceleration_add_value':int32, 'training_acceleration_reduce_value': int32, \n",
    "            'treatment_acceleraion_add_value': int32, 'treatment_acceleration_reduce_value': int32, 'bd_training_hut_level': int8,\n",
    "            'bd_healing_lodge_level': int8, 'bd_stronghold_level': int8, 'bd_outpost_portal_level': int8, 'bd_barrack_level': int8,\n",
    "            'bd_healing_spring_level': int8, 'bd_dolmen_level': int8, 'bd_guest_cavern_level': int8,'bd_warehouse_level': int8,\n",
    "            'bd_watchtower_level': int8, 'bd_magic_coin_tree_level': int8, 'bd_hall_of_war_level': int8, 'bd_market_level': int8,\n",
    "            'bd_hero_gacha_level': int8, 'bd_hero_strengthen_level': int8, 'bd_hero_pve_level': int8, 'sr_scout_level': int8,\n",
    "            'sr_training_speed_level': int8, 'sr_infantry_tier_2_level': int8, 'sr_cavalry_tier_2_level': int8, 'sr_shaman_tier_2_level':int8,\n",
    "            'sr_infantry_atk_level': int8, 'sr_cavalry_atk_level': int8, 'sr_shaman_atk_level': int8, 'sr_infantry_tier_3_level': int8,\n",
    "            'sr_cavalry_tier_3_level': int8, 'sr_shaman_tier_3_level': int8, 'sr_troop_defense_level': int8, 'sr_infantry_def_level': int8,\n",
    "            'sr_cavalry_def_level': int8, 'sr_shaman_def_level': int8, 'sr_infantry_hp_level': int8, 'sr_cavalry_hp_level': int8, \n",
    "            'sr_shaman_hp_level': int8, 'sr_infantry_tier_4_level':int8, 'sr_cavalry_tier_4_level': int8, 'sr_shaman_tier_4_level': int8,\n",
    "            'sr_troop_attack_level': int8, 'sr_construction_speed_level': int8, 'sr_hide_storage_level':int8,'sr_troop_consumption_level':int8,\n",
    "            'sr_rss_a_prod_levell': int8, 'sr_rss_b_prod_level': int8, 'sr_rss_c_prod_level': int8, 'sr_rss_d_prod_level': int8,\n",
    "            'sr_rss_a_gather_level': int8, 'sr_rss_b_gather_level': int8, 'sr_rss_c_gather_level': int8, 'sr_rss_d_gather_level':int8,\n",
    "            'sr_troop_load_level': int8, 'sr_rss_e_gather_level': int8, 'sr_rss_e_prod_level': int8, 'sr_outpost_durability_level':int8,\n",
    "            'sr_outpost_tier_2_level': int8, 'sr_healing_space_level': int8, 'sr_gathering_hunter_buff_level': int8,\n",
    "            'sr_healing_speed_level': int8, 'sr_outpost_tier_3_level': int8, 'sr_alliance_march_speed_level': int8, \n",
    "            'sr_pvp_march_speed_level': int8, 'sr_gathering_march_speed_level': int8, 'sr_outpost_tier_4_level': int8,\n",
    "            'sr_guest_troop_capacity_level': int8, 'sr_march_size_level': int8, 'sr_rss_help_bonus_level': int8, 'pvp_battle_count':int16,\n",
    "            'pvp_lanch_count': int16, 'pvp_win_count': int16, 'pve_battle_count': int16, 'pve_lanch_count': int16, 'pve_win_count': int16,\n",
    "            'avg_online_minutes': np.float64, 'pay_price': np.float64, 'pay_count': int8, 'time': np.float64}\n",
    "\n",
    "train_feature = pd.read_csv(\"data/train_feature.csv\", dtype=my_dtype)\n",
    "pre_feature = pd.read_csv(\"data/pre_feature.csv\", dtype=my_dtype)"
   ]
  },
  {
   "cell_type": "code",
   "execution_count": 2,
   "metadata": {
    "collapsed": true
   },
   "outputs": [],
   "source": [
    "# 自己新添加的特征名一定要加在这里\n",
    "# 比如我就加了一个 time\n",
    "feature_name = ['wood_add_value', 'wood_reduce_value', 'stone_add_value', 'stone_reduce_value', 'ivory_add_value', 'ivory_reduce_value', \n",
    "                'meat_add_value', 'meat_reduce_value', 'magic_add_value', 'magic_reduce_value', 'infantry_add_value', 'infantry_reduce_value', \n",
    "                'cavalry_add_value', \n",
    "                'cavalry_reduce_value', 'shaman_add_value', 'shaman_reduce_value', 'wound_infantry_add_value', \n",
    "                'wound_infantry_reduce_value', 'wound_cavalry_add_value', 'wound_cavalry_reduce_value', \n",
    "                'wound_shaman_add_value', 'wound_shaman_reduce_value', 'general_acceleration_add_value', \n",
    "                'general_acceleration_reduce_value', 'building_acceleration_add_value', 'reaserch_acceleration_add_value', \n",
    "                'reaserch_acceleration_reduce_value', 'training_acceleration_add_value', 'training_acceleration_reduce_value', \n",
    "                'treatment_acceleraion_add_value', 'treatment_acceleration_reduce_value', 'bd_training_hut_level',\n",
    "                'bd_healing_lodge_level', 'bd_stronghold_level', 'bd_outpost_portal_level', 'bd_barrack_level',\n",
    "                'bd_healing_spring_level', 'bd_dolmen_level', 'bd_guest_cavern_level','bd_warehouse_level',\n",
    "                'bd_watchtower_level', 'bd_magic_coin_tree_level', 'bd_hall_of_war_level', 'bd_market_level',\n",
    "                'bd_hero_gacha_level', 'bd_hero_strengthen_level', 'bd_hero_pve_level', 'sr_scout_level',\n",
    "                'sr_training_speed_level', 'sr_infantry_tier_2_level', 'sr_cavalry_tier_2_level', 'sr_shaman_tier_2_level',\n",
    "                'sr_infantry_atk_level', 'sr_cavalry_atk_level', 'sr_shaman_atk_level', 'sr_infantry_tier_3_level',\n",
    "                'sr_cavalry_tier_3_level', 'sr_shaman_tier_3_level', 'sr_troop_defense_level', 'sr_infantry_def_level',\n",
    "                'sr_cavalry_def_level', 'sr_shaman_def_level', 'sr_infantry_hp_level', 'sr_cavalry_hp_level', \n",
    "                'sr_shaman_hp_level', 'sr_infantry_tier_4_level', 'sr_cavalry_tier_4_level', 'sr_shaman_tier_4_level',\n",
    "                'sr_troop_attack_level', 'sr_construction_speed_level', 'sr_hide_storage_level','sr_troop_consumption_level',\n",
    "                'sr_rss_a_prod_levell', 'sr_rss_b_prod_level', 'sr_rss_c_prod_level', 'sr_rss_d_prod_level',\n",
    "                'sr_rss_a_gather_level', 'sr_rss_b_gather_level', 'sr_rss_c_gather_level', 'sr_rss_d_gather_level',\n",
    "                'sr_troop_load_level', 'sr_rss_e_gather_level', 'sr_rss_e_prod_level', 'sr_outpost_durability_level',\n",
    "                'sr_outpost_tier_2_level', 'sr_healing_space_level', 'sr_gathering_hunter_buff_level',\n",
    "                'sr_healing_speed_level', 'sr_outpost_tier_3_level', 'sr_alliance_march_speed_level', \n",
    "                'sr_pvp_march_speed_level', 'sr_gathering_march_speed_level', 'sr_outpost_tier_4_level',\n",
    "                'sr_guest_troop_capacity_level', 'sr_march_size_level', 'sr_rss_help_bonus_level',\n",
    "                'pvp_battle_count','pvp_lanch_count', 'pvp_win_count', 'pve_battle_count', 'pve_lanch_count', 'pve_win_count',\n",
    "                'avg_online_minutes', 'pay_price', 'pay_count', 'time']\n",
    "\n",
    "train_X = train_feature[feature_name]\n",
    "train_Y = train_feature['prediction_pay_price']\n",
    "pre_X = pre_feature[feature_name]"
   ]
  },
  {
   "cell_type": "code",
   "execution_count": 3,
   "metadata": {},
   "outputs": [
    {
     "name": "stdout",
     "output_type": "stream",
     "text": [
      "<class 'pandas.core.frame.DataFrame'>\n",
      "RangeIndex: 2288007 entries, 0 to 2288006\n",
      "Columns: 108 entries, wood_add_value to prediction_pay_price\n",
      "dtypes: float64(4), int16(6), int32(32), int8(66)\n",
      "memory usage: 519.3 MB\n"
     ]
    }
   ],
   "source": [
    "train_feature.info()"
   ]
  },
  {
   "cell_type": "code",
   "execution_count": 4,
   "metadata": {
    "collapsed": true
   },
   "outputs": [],
   "source": [
    "from sklearn.cross_validation import train_test_split\n",
    "\n",
    "train_x, test_x, train_y, test_y = train_test_split(train_X, train_Y, random_state=0)"
   ]
  },
  {
   "cell_type": "code",
   "execution_count": 5,
   "metadata": {},
   "outputs": [
    {
     "name": "stdout",
     "output_type": "stream",
     "text": [
      "[1]\tvalid_0's l2: 8860.81\tvalid_0's auc: 0.988642\n",
      "Training until validation scores don't improve for 30 rounds.\n",
      "[2]\tvalid_0's l2: 8860.72\tvalid_0's auc: 0.990514\n",
      "[3]\tvalid_0's l2: 8860.63\tvalid_0's auc: 0.991562\n",
      "[4]\tvalid_0's l2: 8860.55\tvalid_0's auc: 0.991571\n",
      "[5]\tvalid_0's l2: 8860.47\tvalid_0's auc: 0.991565\n",
      "[6]\tvalid_0's l2: 8860.4\tvalid_0's auc: 0.991569\n",
      "[7]\tvalid_0's l2: 8860.33\tvalid_0's auc: 0.991579\n",
      "[8]\tvalid_0's l2: 8860.27\tvalid_0's auc: 0.991577\n",
      "[9]\tvalid_0's l2: 8860.21\tvalid_0's auc: 0.991576\n",
      "[10]\tvalid_0's l2: 8860.15\tvalid_0's auc: 0.99158\n",
      "[11]\tvalid_0's l2: 8860.1\tvalid_0's auc: 0.991583\n",
      "[12]\tvalid_0's l2: 8860.04\tvalid_0's auc: 0.991584\n",
      "[13]\tvalid_0's l2: 8860\tvalid_0's auc: 0.991584\n",
      "[14]\tvalid_0's l2: 8859.95\tvalid_0's auc: 0.991582\n",
      "[15]\tvalid_0's l2: 8859.91\tvalid_0's auc: 0.991579\n",
      "[16]\tvalid_0's l2: 8859.87\tvalid_0's auc: 0.991577\n",
      "[17]\tvalid_0's l2: 8859.83\tvalid_0's auc: 0.991576\n",
      "[18]\tvalid_0's l2: 8859.8\tvalid_0's auc: 0.991579\n",
      "[19]\tvalid_0's l2: 8859.76\tvalid_0's auc: 0.991576\n",
      "[20]\tvalid_0's l2: 8859.73\tvalid_0's auc: 0.99158\n",
      "[21]\tvalid_0's l2: 8859.7\tvalid_0's auc: 0.99158\n",
      "[22]\tvalid_0's l2: 8859.67\tvalid_0's auc: 0.99158\n",
      "[23]\tvalid_0's l2: 8859.65\tvalid_0's auc: 0.991579\n",
      "[24]\tvalid_0's l2: 8859.62\tvalid_0's auc: 0.991579\n",
      "[25]\tvalid_0's l2: 8859.6\tvalid_0's auc: 0.99158\n",
      "[26]\tvalid_0's l2: 8859.57\tvalid_0's auc: 0.99158\n",
      "[27]\tvalid_0's l2: 8859.55\tvalid_0's auc: 0.991578\n",
      "[28]\tvalid_0's l2: 8859.53\tvalid_0's auc: 0.99158\n",
      "[29]\tvalid_0's l2: 8859.51\tvalid_0's auc: 0.991581\n",
      "[30]\tvalid_0's l2: 8859.49\tvalid_0's auc: 0.991582\n",
      "[31]\tvalid_0's l2: 8859.48\tvalid_0's auc: 0.991582\n",
      "[32]\tvalid_0's l2: 8859.46\tvalid_0's auc: 0.991583\n",
      "[33]\tvalid_0's l2: 8859.45\tvalid_0's auc: 0.99159\n",
      "[34]\tvalid_0's l2: 8859.43\tvalid_0's auc: 0.991595\n",
      "[35]\tvalid_0's l2: 8859.42\tvalid_0's auc: 0.991598\n",
      "[36]\tvalid_0's l2: 8859.4\tvalid_0's auc: 0.991602\n",
      "[37]\tvalid_0's l2: 8859.39\tvalid_0's auc: 0.991604\n",
      "[38]\tvalid_0's l2: 8859.38\tvalid_0's auc: 0.991604\n",
      "[39]\tvalid_0's l2: 8859.37\tvalid_0's auc: 0.991604\n",
      "[40]\tvalid_0's l2: 8859.36\tvalid_0's auc: 0.991608\n",
      "[41]\tvalid_0's l2: 8859.35\tvalid_0's auc: 0.99171\n",
      "[42]\tvalid_0's l2: 8859.34\tvalid_0's auc: 0.991835\n",
      "[43]\tvalid_0's l2: 8859.33\tvalid_0's auc: 0.991838\n",
      "[44]\tvalid_0's l2: 8859.32\tvalid_0's auc: 0.991836\n",
      "[45]\tvalid_0's l2: 8859.31\tvalid_0's auc: 0.991841\n",
      "[46]\tvalid_0's l2: 8859.3\tvalid_0's auc: 0.991841\n",
      "[47]\tvalid_0's l2: 8859.29\tvalid_0's auc: 0.992439\n",
      "[48]\tvalid_0's l2: 8859.29\tvalid_0's auc: 0.992441\n",
      "[49]\tvalid_0's l2: 8859.28\tvalid_0's auc: 0.992459\n",
      "[50]\tvalid_0's l2: 8859.27\tvalid_0's auc: 0.992462\n",
      "[51]\tvalid_0's l2: 8859.27\tvalid_0's auc: 0.992461\n",
      "[52]\tvalid_0's l2: 8859.26\tvalid_0's auc: 0.992462\n",
      "[53]\tvalid_0's l2: 8859.26\tvalid_0's auc: 0.992467\n",
      "[54]\tvalid_0's l2: 8859.25\tvalid_0's auc: 0.992469\n",
      "[55]\tvalid_0's l2: 8859.25\tvalid_0's auc: 0.992462\n",
      "[56]\tvalid_0's l2: 8859.24\tvalid_0's auc: 0.99247\n",
      "[57]\tvalid_0's l2: 8859.24\tvalid_0's auc: 0.992476\n",
      "[58]\tvalid_0's l2: 8859.23\tvalid_0's auc: 0.99248\n",
      "[59]\tvalid_0's l2: 8859.23\tvalid_0's auc: 0.992483\n",
      "[60]\tvalid_0's l2: 8859.23\tvalid_0's auc: 0.992484\n",
      "[61]\tvalid_0's l2: 8859.22\tvalid_0's auc: 0.992486\n",
      "[62]\tvalid_0's l2: 8859.22\tvalid_0's auc: 0.992488\n",
      "[63]\tvalid_0's l2: 8859.21\tvalid_0's auc: 0.992531\n",
      "[64]\tvalid_0's l2: 8859.21\tvalid_0's auc: 0.99253\n",
      "[65]\tvalid_0's l2: 8859.21\tvalid_0's auc: 0.992528\n",
      "[66]\tvalid_0's l2: 8859.21\tvalid_0's auc: 0.992528\n",
      "[67]\tvalid_0's l2: 8859.2\tvalid_0's auc: 0.992529\n",
      "[68]\tvalid_0's l2: 8859.2\tvalid_0's auc: 0.992529\n",
      "[69]\tvalid_0's l2: 8859.2\tvalid_0's auc: 0.992528\n",
      "[70]\tvalid_0's l2: 8859.2\tvalid_0's auc: 0.992613\n",
      "[71]\tvalid_0's l2: 8859.19\tvalid_0's auc: 0.992616\n",
      "[72]\tvalid_0's l2: 8859.19\tvalid_0's auc: 0.992612\n",
      "[73]\tvalid_0's l2: 8859.19\tvalid_0's auc: 0.992646\n",
      "[74]\tvalid_0's l2: 8859.19\tvalid_0's auc: 0.992653\n",
      "[75]\tvalid_0's l2: 8859.19\tvalid_0's auc: 0.992657\n",
      "[76]\tvalid_0's l2: 8859.18\tvalid_0's auc: 0.992749\n",
      "[77]\tvalid_0's l2: 8859.18\tvalid_0's auc: 0.992761\n",
      "[78]\tvalid_0's l2: 8859.18\tvalid_0's auc: 0.992763\n",
      "[79]\tvalid_0's l2: 8859.18\tvalid_0's auc: 0.992766\n",
      "[80]\tvalid_0's l2: 8859.18\tvalid_0's auc: 0.992757\n",
      "[81]\tvalid_0's l2: 8859.18\tvalid_0's auc: 0.992761\n",
      "[82]\tvalid_0's l2: 8859.18\tvalid_0's auc: 0.992771\n",
      "[83]\tvalid_0's l2: 8859.17\tvalid_0's auc: 0.992773\n",
      "[84]\tvalid_0's l2: 8859.17\tvalid_0's auc: 0.99277\n",
      "[85]\tvalid_0's l2: 8859.17\tvalid_0's auc: 0.992771\n",
      "[86]\tvalid_0's l2: 8859.17\tvalid_0's auc: 0.992773\n",
      "[87]\tvalid_0's l2: 8859.17\tvalid_0's auc: 0.99278\n",
      "[88]\tvalid_0's l2: 8859.17\tvalid_0's auc: 0.99278\n",
      "[89]\tvalid_0's l2: 8859.17\tvalid_0's auc: 0.992784\n",
      "[90]\tvalid_0's l2: 8859.17\tvalid_0's auc: 0.992819\n",
      "[91]\tvalid_0's l2: 8859.17\tvalid_0's auc: 0.992807\n",
      "[92]\tvalid_0's l2: 8859.17\tvalid_0's auc: 0.992815\n",
      "[93]\tvalid_0's l2: 8859.16\tvalid_0's auc: 0.992868\n",
      "[94]\tvalid_0's l2: 8859.16\tvalid_0's auc: 0.992866\n",
      "[95]\tvalid_0's l2: 8859.16\tvalid_0's auc: 0.992866\n",
      "[96]\tvalid_0's l2: 8859.16\tvalid_0's auc: 0.992864\n",
      "[97]\tvalid_0's l2: 8859.16\tvalid_0's auc: 0.992869\n",
      "[98]\tvalid_0's l2: 8859.16\tvalid_0's auc: 0.992871\n",
      "[99]\tvalid_0's l2: 8859.16\tvalid_0's auc: 0.992867\n",
      "[100]\tvalid_0's l2: 8859.16\tvalid_0's auc: 0.992874\n"
     ]
    }
   ],
   "source": [
    "import lightgbm as lgb\n",
    "\n",
    "lgb_train = lgb.Dataset(train_x, train_y)\n",
    "lgb_eval = lgb.Dataset(test_x, test_y, reference=lgb_train)\n",
    "\n",
    "params = {\n",
    "    'task': 'train',\n",
    "    'boosting_type': 'gbdt',\n",
    "    'objective': 'binary',\n",
    "    'metric': {'l2', 'auc'},\n",
    "    'num_leaves': 31,\n",
    "    'learning_rate': 0.05,\n",
    "    'feature_fraction': 0.9,\n",
    "    'bagging_fraction': 0.8,\n",
    "    'bagging_freq': 5,\n",
    "    'verbose': 0\n",
    "}\n",
    "\n",
    "gbm = lgb.train(params,\n",
    "                lgb_train,\n",
    "                num_boost_round=100,\n",
    "                valid_sets=lgb_eval,\n",
    "                early_stopping_rounds=30)\n"
   ]
  },
  {
   "cell_type": "code",
   "execution_count": 6,
   "metadata": {
    "collapsed": true
   },
   "outputs": [],
   "source": [
    "pred=gbm.predict(pre_X)\n",
    "\n",
    "df=pd.DataFrame({'user_id':pre_feature.user_id, 'prediction_pay_price':pred})   \n",
    "df[['user_id', 'prediction_pay_price']].to_csv('lcz.csv',index = False)"
   ]
  },
  {
   "cell_type": "code",
   "execution_count": 7,
   "metadata": {},
   "outputs": [
    {
     "data": {
      "text/plain": [
       "count    828934.000000\n",
       "mean          0.029297\n",
       "std           0.150773\n",
       "min           0.003652\n",
       "25%           0.003652\n",
       "50%           0.003652\n",
       "75%           0.003712\n",
       "max           0.997998\n",
       "Name: prediction_pay_price, dtype: float64"
      ]
     },
     "execution_count": 7,
     "metadata": {},
     "output_type": "execute_result"
    }
   ],
   "source": [
    "df['prediction_pay_price'].describe()"
   ]
  }
 ],
 "metadata": {
  "kernelspec": {
   "display_name": "Python 3",
   "language": "python",
   "name": "python3"
  },
  "language_info": {
   "codemirror_mode": {
    "name": "ipython",
    "version": 3
   },
   "file_extension": ".py",
   "mimetype": "text/x-python",
   "name": "python",
   "nbconvert_exporter": "python",
   "pygments_lexer": "ipython3",
   "version": "3.5.3"
  }
 },
 "nbformat": 4,
 "nbformat_minor": 2
}
