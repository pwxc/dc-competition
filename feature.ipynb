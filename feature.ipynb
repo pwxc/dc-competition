{
 "cells": [
  {
   "cell_type": "code",
   "execution_count": null,
   "metadata": {
    "collapsed": true
   },
   "outputs": [],
   "source": [
    "import numpy as np\n",
    "import pandas as pd\n",
    "\n",
    "int32 = np.int32\n",
    "int8 = np.int8\n",
    "int16 = np.int16\n",
    "\n",
    "# 我加载的数据类型，指定合适的类型可以降低内存占用\n",
    "my_dtype = {'user_id': int32, 'wood_add_value': int32, 'wood_reduce_value':int32, 'stone_add_value': int32, 'stone_reduce_value':int32, \n",
    "            'ivory_add_value':int32, 'ivory_reduce_value':int32, 'meat_add_value':int32, 'meat_reduce_value':int32, 'magic_add_value':int32, \n",
    "            'magic_reduce_value': int32, 'infantry_add_value':int32, 'infantry_reduce_value':int32, 'cavalry_add_value':int32, \n",
    "            'cavalry_reduce_value':int32, 'shaman_add_value':int32, 'shaman_reduce_value':int32, 'wound_infantry_add_value':int32, \n",
    "            'wound_infantry_reduce_value':int32, 'wound_cavalry_add_value':int32, 'wound_cavalry_reduce_value':int32, \n",
    "            'wound_shaman_add_value':int32, 'wound_shaman_reduce_value':int32, 'general_acceleration_add_value':int32, \n",
    "            'general_acceleration_reduce_value':int32, 'building_acceleration_add_value':int32, 'reaserch_acceleration_add_value':int32, \n",
    "            'reaserch_acceleration_reduce_value':int32, 'training_acceleration_add_value':int32, 'training_acceleration_reduce_value': int32, \n",
    "            'treatment_acceleraion_add_value': int32, 'treatment_acceleration_reduce_value': int32, 'bd_training_hut_level': int8,\n",
    "            'bd_healing_lodge_level': int8, 'bd_stronghold_level': int8, 'bd_outpost_portal_level': int8, 'bd_barrack_level': int8,\n",
    "            'bd_healing_spring_level': int8, 'bd_dolmen_level': int8, 'bd_guest_cavern_level': int8,'bd_warehouse_level': int8,\n",
    "            'bd_watchtower_level': int8, 'bd_magic_coin_tree_level': int8, 'bd_hall_of_war_level': int8, 'bd_market_level': int8,\n",
    "            'bd_hero_gacha_level': int8, 'bd_hero_strengthen_level': int8, 'bd_hero_pve_level': int8, 'sr_scout_level': int8,\n",
    "            'sr_training_speed_level': int8, 'sr_infantry_tier_2_level': int8, 'sr_cavalry_tier_2_level': int8, 'sr_shaman_tier_2_level':int8,\n",
    "            'sr_infantry_atk_level': int8, 'sr_cavalry_atk_level': int8, 'sr_shaman_atk_level': int8, 'sr_infantry_tier_3_level': int8,\n",
    "            'sr_cavalry_tier_3_level': int8, 'sr_shaman_tier_3_level': int8, 'sr_troop_defense_level': int8, 'sr_infantry_def_level': int8,\n",
    "            'sr_cavalry_def_level': int8, 'sr_shaman_def_level': int8, 'sr_infantry_hp_level': int8, 'sr_cavalry_hp_level': int8, \n",
    "            'sr_shaman_hp_level': int8, 'sr_infantry_tier_4_level':int8, 'sr_cavalry_tier_4_level': int8, 'sr_shaman_tier_4_level': int8,\n",
    "            'sr_troop_attack_level': int8, 'sr_construction_speed_level': int8, 'sr_hide_storage_level':int8,'sr_troop_consumption_level':int8,\n",
    "            'sr_rss_a_prod_levell': int8, 'sr_rss_b_prod_level': int8, 'sr_rss_c_prod_level': int8, 'sr_rss_d_prod_level': int8,\n",
    "            'sr_rss_a_gather_level': int8, 'sr_rss_b_gather_level': int8, 'sr_rss_c_gather_level': int8, 'sr_rss_d_gather_level':int8,\n",
    "            'sr_troop_load_level': int8, 'sr_rss_e_gather_level': int8, 'sr_rss_e_prod_level': int8, 'sr_outpost_durability_level':int8,\n",
    "            'sr_outpost_tier_2_level': int8, 'sr_healing_space_level': int8, 'sr_gathering_hunter_buff_level': int8,\n",
    "            'sr_healing_speed_level': int8, 'sr_outpost_tier_3_level': int8, 'sr_alliance_march_speed_level': int8, \n",
    "            'sr_pvp_march_speed_level': int8, 'sr_gathering_march_speed_level': int8, 'sr_outpost_tier_4_level': int8,\n",
    "            'sr_guest_troop_capacity_level': int8, 'sr_march_size_level': int8, 'sr_rss_help_bonus_level': int8, 'pvp_battle_count':int16,\n",
    "            'pvp_lanch_count': int16, 'pvp_win_count': int16, 'pve_battle_count': int16, 'pve_lanch_count': int16, 'pve_win_count': int16,\n",
    "            'avg_online_minutes': np.float64, 'pay_price': np.float64, 'pay_count': int8}\n",
    "\n",
    "train = pd.read_csv(\"data/tap_fun_train.csv\", dtype=my_dtype)\n",
    "pre = pd.read_csv(\"data/tap_fun_test.csv\", dtype=my_dtype)\n",
    "                   "
   ]
  },
  {
   "cell_type": "code",
   "execution_count": null,
   "metadata": {
    "collapsed": true
   },
   "outputs": [],
   "source": [
    "# 在原始数据中提取部分作为我们的特征值\n",
    "# 这个部分只用在第一次的时候算一下\n",
    "raw_feature_name = [ 'wood_add_value', 'wood_reduce_value', 'stone_add_value', 'stone_reduce_value', 'ivory_add_value', 'ivory_reduce_value', \n",
    "                'meat_add_value', 'meat_reduce_value', 'magic_add_value', 'magic_reduce_value', 'infantry_add_value', 'infantry_reduce_value', \n",
    "                'cavalry_add_value', \n",
    "                'cavalry_reduce_value', 'shaman_add_value', 'shaman_reduce_value', 'wound_infantry_add_value', \n",
    "                'wound_infantry_reduce_value', 'wound_cavalry_add_value', 'wound_cavalry_reduce_value', \n",
    "                'wound_shaman_add_value', 'wound_shaman_reduce_value', 'general_acceleration_add_value', \n",
    "                'general_acceleration_reduce_value', 'building_acceleration_add_value', 'reaserch_acceleration_add_value', \n",
    "                'reaserch_acceleration_reduce_value', 'training_acceleration_add_value', 'training_acceleration_reduce_value', \n",
    "                'treatment_acceleraion_add_value', 'treatment_acceleration_reduce_value', 'bd_training_hut_level',\n",
    "                'bd_healing_lodge_level', 'bd_stronghold_level', 'bd_outpost_portal_level', 'bd_barrack_level',\n",
    "                'bd_healing_spring_level', 'bd_dolmen_level', 'bd_guest_cavern_level','bd_warehouse_level',\n",
    "                'bd_watchtower_level', 'bd_magic_coin_tree_level', 'bd_hall_of_war_level', 'bd_market_level',\n",
    "                'bd_hero_gacha_level', 'bd_hero_strengthen_level', 'bd_hero_pve_level', 'sr_scout_level',\n",
    "                'sr_training_speed_level', 'sr_infantry_tier_2_level', 'sr_cavalry_tier_2_level', 'sr_shaman_tier_2_level',\n",
    "                'sr_infantry_atk_level', 'sr_cavalry_atk_level', 'sr_shaman_atk_level', 'sr_infantry_tier_3_level',\n",
    "                'sr_cavalry_tier_3_level', 'sr_shaman_tier_3_level', 'sr_troop_defense_level', 'sr_infantry_def_level',\n",
    "                'sr_cavalry_def_level', 'sr_shaman_def_level', 'sr_infantry_hp_level', 'sr_cavalry_hp_level', \n",
    "                'sr_shaman_hp_level', 'sr_infantry_tier_4_level', 'sr_cavalry_tier_4_level', 'sr_shaman_tier_4_level',\n",
    "                'sr_troop_attack_level', 'sr_construction_speed_level', 'sr_hide_storage_level','sr_troop_consumption_level',\n",
    "                'sr_rss_a_prod_levell', 'sr_rss_b_prod_level', 'sr_rss_c_prod_level', 'sr_rss_d_prod_level',\n",
    "                'sr_rss_a_gather_level', 'sr_rss_b_gather_level', 'sr_rss_c_gather_level', 'sr_rss_d_gather_level',\n",
    "                'sr_troop_load_level', 'sr_rss_e_gather_level', 'sr_rss_e_prod_level', 'sr_outpost_durability_level',\n",
    "                'sr_outpost_tier_2_level', 'sr_healing_space_level', 'sr_gathering_hunter_buff_level',\n",
    "                'sr_healing_speed_level', 'sr_outpost_tier_3_level', 'sr_alliance_march_speed_level', \n",
    "                'sr_pvp_march_speed_level', 'sr_gathering_march_speed_level', 'sr_outpost_tier_4_level',\n",
    "                'sr_guest_troop_capacity_level', 'sr_march_size_level', 'sr_rss_help_bonus_level',\n",
    "                'user_id','pvp_battle_count','pvp_lanch_count', 'pvp_win_count', 'pve_battle_count', 'pve_lanch_count', 'pve_win_count',\n",
    "                'avg_online_minutes', 'pay_price', 'pay_count']\n",
    "\n",
    "\n",
    "train_feature = train[raw_feature_name]\n",
    "pre_feature = pre[raw_feature_name]\n",
    "\n",
    "# 如果我们已经保存了特征，就直接读取                   \n",
    "# train_feature = pd.read_csv(\"data/train_feature.csv\")\n",
    "# test_feature = pd.read_csv(\"data/test_feature.csv\")"
   ]
  },
  {
   "cell_type": "code",
   "execution_count": null,
   "metadata": {},
   "outputs": [],
   "source": [
    "# 这个cell用来做特征的提取，在这里我先只提取一个特征\n",
    "# 利用注册时间算出用户到现在为止的时间\n",
    "# 还有其他特征，比如说 用户pvp胜利lv， 用户平均每次充值的金额，我都先忽略\n",
    "# 这个计算耗时较长，但是我只要把他保存起来，下次就不用再算了\n",
    "\n",
    "import time\n",
    "\n",
    "train_feature['time'] = [time.time() - pd.to_datetime(t).timestamp() for t in train.register_time]\n",
    "pre_feature['time'] = [time.time() - pd.to_datetime(t).timestamp() for t in pre.register_time]"
   ]
  },
  {
   "cell_type": "code",
   "execution_count": null,
   "metadata": {},
   "outputs": [],
   "source": [
    "train_feature['prediction_pay_price'] = train['prediction_pay_price']\n",
    "train_feature.to_csv('data/train_feature.csv', index=False)\n",
    "pre_feature.to_csv('data/pre_feature.csv', index=False)"
   ]
  }
 ],
 "metadata": {
  "kernelspec": {
   "display_name": "Python 3",
   "language": "python",
   "name": "python3"
  },
  "language_info": {
   "codemirror_mode": {
    "name": "ipython",
    "version": 3
   },
   "file_extension": ".py",
   "mimetype": "text/x-python",
   "name": "python",
   "nbconvert_exporter": "python",
   "pygments_lexer": "ipython3",
   "version": "3.5.3"
  }
 },
 "nbformat": 4,
 "nbformat_minor": 2
}
